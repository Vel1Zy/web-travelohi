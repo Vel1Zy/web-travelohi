{
  "cells": [
    {
      "cell_type": "markdown",
      "metadata": {
        "id": "8wQgFX7ifxR9"
      },
      "source": [
        "# **AlexNet Location Recognition Model AI23-2**"
      ]
    },
    {
      "cell_type": "markdown",
      "metadata": {
        "id": "oGzlsHUigppC"
      },
      "source": [
        "## Libraries"
      ]
    },
    {
      "cell_type": "code",
      "execution_count": null,
      "metadata": {
        "id": "EdOI8qPsfuHi"
      },
      "outputs": [],
      "source": [
        "import pandas as pd\n",
        "import numpy as np\n",
        "import matplotlib.pyplot as plt\n",
        "from tensorflow.keras.preprocessing.image import ImageDataGenerator\n",
        "import cv2"
      ]
    },
    {
      "cell_type": "code",
      "execution_count": null,
      "metadata": {
        "colab": {
          "base_uri": "https://localhost:8080/"
        },
        "id": "C9LI1UzGgvX6",
        "outputId": "00d6c09a-f145-4830-f72c-7b369b5a7fad"
      },
      "outputs": [
        {
          "name": "stdout",
          "output_type": "stream",
          "text": [
            "Mounted at /content/drive\n"
          ]
        }
      ],
      "source": [
        "from google.colab import drive\n",
        "drive.mount('/content/drive')"
      ]
    },
    {
      "cell_type": "markdown",
      "metadata": {
        "id": "_0WTJSVMgyHP"
      },
      "source": [
        "## Directories + Parameters\n"
      ]
    },
    {
      "cell_type": "markdown",
      "metadata": {
        "id": "cfKPCNo-hrkR"
      },
      "source": [
        "Buat dimensi imagenya, ada yang pake 227x227 dan ada yang pake 224x224.\n",
        "\n",
        "AlexNet sendiri terima input berapa aja sizenya selama itu masih at least 224 x 224"
      ]
    },
    {
      "cell_type": "code",
      "execution_count": null,
      "metadata": {
        "id": "zIrzrO7UiSZ5"
      },
      "outputs": [],
      "source": [
        "train_dir = '/content/drive/MyDrive/ASLAB TPA WEB/Dataset/train'\n",
        "test_dir = '/content/drive/MyDrive/ASLAB TPA WEB/Dataset/test'\n",
        "val_dir = '/content/drive/MyDrive/ASLAB TPA WEB/Dataset/valid'\n",
        "\n",
        "train_csv = pd.read_csv('/content/drive/MyDrive/ASLAB TPA WEB/Dataset/train/_classes.csv')\n",
        "test_csv = pd.read_csv('/content/drive/MyDrive/ASLAB TPA WEB/Dataset/test/_classes.csv')\n",
        "val_csv = pd.read_csv('/content/drive/MyDrive/ASLAB TPA WEB/Dataset/valid/_classes.csv')"
      ]
    },
    {
      "cell_type": "code",
      "execution_count": null,
      "metadata": {
        "id": "oHmje-B1hY_Y"
      },
      "outputs": [],
      "source": [
        "img_h = 224\n",
        "img_w = 224\n",
        "EPOCHS = 30\n",
        "BATCH_SIZE = 32"
      ]
    },
    {
      "cell_type": "markdown",
      "metadata": {
        "id": "mT-ersapihdT"
      },
      "source": [
        "## Data Exploration"
      ]
    },
    {
      "cell_type": "code",
      "execution_count": null,
      "metadata": {
        "colab": {
          "background_save": true,
          "base_uri": "https://localhost:8080/"
        },
        "id": "K_2FaZsFh2zS",
        "outputId": "b87b5f31-4518-4759-86c4-e6203107c960"
      },
      "outputs": [
        {
          "ename": "NameError",
          "evalue": "name 'train_csv' is not defined",
          "output_type": "error",
          "traceback": [
            "\u001b[0;31m---------------------------------------------------------------------------\u001b[0m",
            "\u001b[0;31mNameError\u001b[0m                                 Traceback (most recent call last)",
            "\u001b[0;32m<ipython-input-1-c57db501c79c>\u001b[0m in \u001b[0;36m<cell line: 1>\u001b[0;34m()\u001b[0m\n\u001b[0;32m----> 1\u001b[0;31m \u001b[0mprint\u001b[0m\u001b[0;34m(\u001b[0m\u001b[0mlist\u001b[0m\u001b[0;34m(\u001b[0m\u001b[0mtrain_csv\u001b[0m\u001b[0;34m.\u001b[0m\u001b[0mcolumns\u001b[0m\u001b[0;34m)\u001b[0m\u001b[0;34m[\u001b[0m\u001b[0;36m1\u001b[0m\u001b[0;34m:\u001b[0m\u001b[0;34m]\u001b[0m\u001b[0;34m)\u001b[0m\u001b[0;34m\u001b[0m\u001b[0;34m\u001b[0m\u001b[0m\n\u001b[0m",
            "\u001b[0;31mNameError\u001b[0m: name 'train_csv' is not defined"
          ]
        }
      ],
      "source": [
        "print(list(train_csv.columns)[1:])"
      ]
    },
    {
      "cell_type": "code",
      "execution_count": null,
      "metadata": {
        "id": "zB6fDJ4BmWlt"
      },
      "outputs": [],
      "source": [
        "# remove whitespaces + change format\n",
        "train_csv = train_csv.rename(columns=lambda x: x.strip().replace('United_States', 'United-States'))\n",
        "test_csv = test_csv.rename(columns=lambda x: x.strip().replace('United_States', 'United-States'))\n",
        "val_csv = val_csv.rename(columns=lambda x: x.strip().replace('United_States', 'United-States'))"
      ]
    },
    {
      "cell_type": "code",
      "execution_count": null,
      "metadata": {
        "colab": {
          "base_uri": "https://localhost:8080/"
        },
        "id": "AQusBUcAmWnm",
        "outputId": "63ec3c08-c88e-494b-ffe0-b5341095273a"
      },
      "outputs": [
        {
          "name": "stdout",
          "output_type": "stream",
          "text": [
            "['Brazil', 'Canada', 'Finland', 'Japan', 'United-Kingdom', 'United-States', 'Unlabeled']\n"
          ]
        }
      ],
      "source": [
        "print(list(train_csv.columns)[1:])"
      ]
    },
    {
      "cell_type": "code",
      "execution_count": null,
      "metadata": {
        "id": "NGHHZB4MmWpr"
      },
      "outputs": [],
      "source": [
        "classes = list(train_csv.columns)[1:]"
      ]
    },
    {
      "cell_type": "code",
      "execution_count": null,
      "metadata": {
        "colab": {
          "base_uri": "https://localhost:8080/",
          "height": 206
        },
        "id": "wSVL4opYmWrq",
        "outputId": "df3157e3-f384-43dd-d00e-21edf676fea7"
      },
      "outputs": [
        {
          "data": {
            "text/html": [
              "\n",
              "  <div id=\"df-8a533925-cd5e-4892-9041-9dcb970c0ee8\" class=\"colab-df-container\">\n",
              "    <div>\n",
              "<style scoped>\n",
              "    .dataframe tbody tr th:only-of-type {\n",
              "        vertical-align: middle;\n",
              "    }\n",
              "\n",
              "    .dataframe tbody tr th {\n",
              "        vertical-align: top;\n",
              "    }\n",
              "\n",
              "    .dataframe thead th {\n",
              "        text-align: right;\n",
              "    }\n",
              "</style>\n",
              "<table border=\"1\" class=\"dataframe\">\n",
              "  <thead>\n",
              "    <tr style=\"text-align: right;\">\n",
              "      <th></th>\n",
              "      <th>filename</th>\n",
              "      <th>Brazil</th>\n",
              "      <th>Canada</th>\n",
              "      <th>Finland</th>\n",
              "      <th>Japan</th>\n",
              "      <th>United-Kingdom</th>\n",
              "      <th>United-States</th>\n",
              "      <th>Unlabeled</th>\n",
              "    </tr>\n",
              "  </thead>\n",
              "  <tbody>\n",
              "    <tr>\n",
              "      <th>0</th>\n",
              "      <td>canvas_1630049629_jpg.rf.9173ca80a66b0e0aa8b69...</td>\n",
              "      <td>1</td>\n",
              "      <td>0</td>\n",
              "      <td>0</td>\n",
              "      <td>0</td>\n",
              "      <td>0</td>\n",
              "      <td>0</td>\n",
              "      <td>0</td>\n",
              "    </tr>\n",
              "    <tr>\n",
              "      <th>1</th>\n",
              "      <td>60-61946-24-87396_jpg.rf.917936eddea98c4223b89...</td>\n",
              "      <td>0</td>\n",
              "      <td>0</td>\n",
              "      <td>1</td>\n",
              "      <td>0</td>\n",
              "      <td>0</td>\n",
              "      <td>0</td>\n",
              "      <td>0</td>\n",
              "    </tr>\n",
              "    <tr>\n",
              "      <th>2</th>\n",
              "      <td>canvas_1629307990_jpg.rf.9190555e23a965ec04131...</td>\n",
              "      <td>0</td>\n",
              "      <td>0</td>\n",
              "      <td>0</td>\n",
              "      <td>0</td>\n",
              "      <td>0</td>\n",
              "      <td>1</td>\n",
              "      <td>0</td>\n",
              "    </tr>\n",
              "    <tr>\n",
              "      <th>3</th>\n",
              "      <td>canvas_1629419207_jpg.rf.919b5ce1d4fac10e637b7...</td>\n",
              "      <td>0</td>\n",
              "      <td>0</td>\n",
              "      <td>0</td>\n",
              "      <td>1</td>\n",
              "      <td>0</td>\n",
              "      <td>0</td>\n",
              "      <td>0</td>\n",
              "    </tr>\n",
              "    <tr>\n",
              "      <th>4</th>\n",
              "      <td>canvas_1629825120_jpg.rf.91a363fc8d278b53a90d2...</td>\n",
              "      <td>0</td>\n",
              "      <td>0</td>\n",
              "      <td>0</td>\n",
              "      <td>0</td>\n",
              "      <td>1</td>\n",
              "      <td>0</td>\n",
              "      <td>0</td>\n",
              "    </tr>\n",
              "  </tbody>\n",
              "</table>\n",
              "</div>\n",
              "    <div class=\"colab-df-buttons\">\n",
              "\n",
              "  <div class=\"colab-df-container\">\n",
              "    <button class=\"colab-df-convert\" onclick=\"convertToInteractive('df-8a533925-cd5e-4892-9041-9dcb970c0ee8')\"\n",
              "            title=\"Convert this dataframe to an interactive table.\"\n",
              "            style=\"display:none;\">\n",
              "\n",
              "  <svg xmlns=\"http://www.w3.org/2000/svg\" height=\"24px\" viewBox=\"0 -960 960 960\">\n",
              "    <path d=\"M120-120v-720h720v720H120Zm60-500h600v-160H180v160Zm220 220h160v-160H400v160Zm0 220h160v-160H400v160ZM180-400h160v-160H180v160Zm440 0h160v-160H620v160ZM180-180h160v-160H180v160Zm440 0h160v-160H620v160Z\"/>\n",
              "  </svg>\n",
              "    </button>\n",
              "\n",
              "  <style>\n",
              "    .colab-df-container {\n",
              "      display:flex;\n",
              "      gap: 12px;\n",
              "    }\n",
              "\n",
              "    .colab-df-convert {\n",
              "      background-color: #E8F0FE;\n",
              "      border: none;\n",
              "      border-radius: 50%;\n",
              "      cursor: pointer;\n",
              "      display: none;\n",
              "      fill: #1967D2;\n",
              "      height: 32px;\n",
              "      padding: 0 0 0 0;\n",
              "      width: 32px;\n",
              "    }\n",
              "\n",
              "    .colab-df-convert:hover {\n",
              "      background-color: #E2EBFA;\n",
              "      box-shadow: 0px 1px 2px rgba(60, 64, 67, 0.3), 0px 1px 3px 1px rgba(60, 64, 67, 0.15);\n",
              "      fill: #174EA6;\n",
              "    }\n",
              "\n",
              "    .colab-df-buttons div {\n",
              "      margin-bottom: 4px;\n",
              "    }\n",
              "\n",
              "    [theme=dark] .colab-df-convert {\n",
              "      background-color: #3B4455;\n",
              "      fill: #D2E3FC;\n",
              "    }\n",
              "\n",
              "    [theme=dark] .colab-df-convert:hover {\n",
              "      background-color: #434B5C;\n",
              "      box-shadow: 0px 1px 3px 1px rgba(0, 0, 0, 0.15);\n",
              "      filter: drop-shadow(0px 1px 2px rgba(0, 0, 0, 0.3));\n",
              "      fill: #FFFFFF;\n",
              "    }\n",
              "  </style>\n",
              "\n",
              "    <script>\n",
              "      const buttonEl =\n",
              "        document.querySelector('#df-8a533925-cd5e-4892-9041-9dcb970c0ee8 button.colab-df-convert');\n",
              "      buttonEl.style.display =\n",
              "        google.colab.kernel.accessAllowed ? 'block' : 'none';\n",
              "\n",
              "      async function convertToInteractive(key) {\n",
              "        const element = document.querySelector('#df-8a533925-cd5e-4892-9041-9dcb970c0ee8');\n",
              "        const dataTable =\n",
              "          await google.colab.kernel.invokeFunction('convertToInteractive',\n",
              "                                                    [key], {});\n",
              "        if (!dataTable) return;\n",
              "\n",
              "        const docLinkHtml = 'Like what you see? Visit the ' +\n",
              "          '<a target=\"_blank\" href=https://colab.research.google.com/notebooks/data_table.ipynb>data table notebook</a>'\n",
              "          + ' to learn more about interactive tables.';\n",
              "        element.innerHTML = '';\n",
              "        dataTable['output_type'] = 'display_data';\n",
              "        await google.colab.output.renderOutput(dataTable, element);\n",
              "        const docLink = document.createElement('div');\n",
              "        docLink.innerHTML = docLinkHtml;\n",
              "        element.appendChild(docLink);\n",
              "      }\n",
              "    </script>\n",
              "  </div>\n",
              "\n",
              "\n",
              "<div id=\"df-00eb1318-80f2-4054-8933-533ec567d8d4\">\n",
              "  <button class=\"colab-df-quickchart\" onclick=\"quickchart('df-00eb1318-80f2-4054-8933-533ec567d8d4')\"\n",
              "            title=\"Suggest charts\"\n",
              "            style=\"display:none;\">\n",
              "\n",
              "<svg xmlns=\"http://www.w3.org/2000/svg\" height=\"24px\"viewBox=\"0 0 24 24\"\n",
              "     width=\"24px\">\n",
              "    <g>\n",
              "        <path d=\"M19 3H5c-1.1 0-2 .9-2 2v14c0 1.1.9 2 2 2h14c1.1 0 2-.9 2-2V5c0-1.1-.9-2-2-2zM9 17H7v-7h2v7zm4 0h-2V7h2v10zm4 0h-2v-4h2v4z\"/>\n",
              "    </g>\n",
              "</svg>\n",
              "  </button>\n",
              "\n",
              "<style>\n",
              "  .colab-df-quickchart {\n",
              "      --bg-color: #E8F0FE;\n",
              "      --fill-color: #1967D2;\n",
              "      --hover-bg-color: #E2EBFA;\n",
              "      --hover-fill-color: #174EA6;\n",
              "      --disabled-fill-color: #AAA;\n",
              "      --disabled-bg-color: #DDD;\n",
              "  }\n",
              "\n",
              "  [theme=dark] .colab-df-quickchart {\n",
              "      --bg-color: #3B4455;\n",
              "      --fill-color: #D2E3FC;\n",
              "      --hover-bg-color: #434B5C;\n",
              "      --hover-fill-color: #FFFFFF;\n",
              "      --disabled-bg-color: #3B4455;\n",
              "      --disabled-fill-color: #666;\n",
              "  }\n",
              "\n",
              "  .colab-df-quickchart {\n",
              "    background-color: var(--bg-color);\n",
              "    border: none;\n",
              "    border-radius: 50%;\n",
              "    cursor: pointer;\n",
              "    display: none;\n",
              "    fill: var(--fill-color);\n",
              "    height: 32px;\n",
              "    padding: 0;\n",
              "    width: 32px;\n",
              "  }\n",
              "\n",
              "  .colab-df-quickchart:hover {\n",
              "    background-color: var(--hover-bg-color);\n",
              "    box-shadow: 0 1px 2px rgba(60, 64, 67, 0.3), 0 1px 3px 1px rgba(60, 64, 67, 0.15);\n",
              "    fill: var(--button-hover-fill-color);\n",
              "  }\n",
              "\n",
              "  .colab-df-quickchart-complete:disabled,\n",
              "  .colab-df-quickchart-complete:disabled:hover {\n",
              "    background-color: var(--disabled-bg-color);\n",
              "    fill: var(--disabled-fill-color);\n",
              "    box-shadow: none;\n",
              "  }\n",
              "\n",
              "  .colab-df-spinner {\n",
              "    border: 2px solid var(--fill-color);\n",
              "    border-color: transparent;\n",
              "    border-bottom-color: var(--fill-color);\n",
              "    animation:\n",
              "      spin 1s steps(1) infinite;\n",
              "  }\n",
              "\n",
              "  @keyframes spin {\n",
              "    0% {\n",
              "      border-color: transparent;\n",
              "      border-bottom-color: var(--fill-color);\n",
              "      border-left-color: var(--fill-color);\n",
              "    }\n",
              "    20% {\n",
              "      border-color: transparent;\n",
              "      border-left-color: var(--fill-color);\n",
              "      border-top-color: var(--fill-color);\n",
              "    }\n",
              "    30% {\n",
              "      border-color: transparent;\n",
              "      border-left-color: var(--fill-color);\n",
              "      border-top-color: var(--fill-color);\n",
              "      border-right-color: var(--fill-color);\n",
              "    }\n",
              "    40% {\n",
              "      border-color: transparent;\n",
              "      border-right-color: var(--fill-color);\n",
              "      border-top-color: var(--fill-color);\n",
              "    }\n",
              "    60% {\n",
              "      border-color: transparent;\n",
              "      border-right-color: var(--fill-color);\n",
              "    }\n",
              "    80% {\n",
              "      border-color: transparent;\n",
              "      border-right-color: var(--fill-color);\n",
              "      border-bottom-color: var(--fill-color);\n",
              "    }\n",
              "    90% {\n",
              "      border-color: transparent;\n",
              "      border-bottom-color: var(--fill-color);\n",
              "    }\n",
              "  }\n",
              "</style>\n",
              "\n",
              "  <script>\n",
              "    async function quickchart(key) {\n",
              "      const quickchartButtonEl =\n",
              "        document.querySelector('#' + key + ' button');\n",
              "      quickchartButtonEl.disabled = true;  // To prevent multiple clicks.\n",
              "      quickchartButtonEl.classList.add('colab-df-spinner');\n",
              "      try {\n",
              "        const charts = await google.colab.kernel.invokeFunction(\n",
              "            'suggestCharts', [key], {});\n",
              "      } catch (error) {\n",
              "        console.error('Error during call to suggestCharts:', error);\n",
              "      }\n",
              "      quickchartButtonEl.classList.remove('colab-df-spinner');\n",
              "      quickchartButtonEl.classList.add('colab-df-quickchart-complete');\n",
              "    }\n",
              "    (() => {\n",
              "      let quickchartButtonEl =\n",
              "        document.querySelector('#df-00eb1318-80f2-4054-8933-533ec567d8d4 button');\n",
              "      quickchartButtonEl.style.display =\n",
              "        google.colab.kernel.accessAllowed ? 'block' : 'none';\n",
              "    })();\n",
              "  </script>\n",
              "</div>\n",
              "    </div>\n",
              "  </div>\n"
            ],
            "text/plain": [
              "                                            filename  Brazil  Canada  Finland  \\\n",
              "0  canvas_1630049629_jpg.rf.9173ca80a66b0e0aa8b69...       1       0        0   \n",
              "1  60-61946-24-87396_jpg.rf.917936eddea98c4223b89...       0       0        1   \n",
              "2  canvas_1629307990_jpg.rf.9190555e23a965ec04131...       0       0        0   \n",
              "3  canvas_1629419207_jpg.rf.919b5ce1d4fac10e637b7...       0       0        0   \n",
              "4  canvas_1629825120_jpg.rf.91a363fc8d278b53a90d2...       0       0        0   \n",
              "\n",
              "   Japan  United-Kingdom  United-States  Unlabeled  \n",
              "0      0               0              0          0  \n",
              "1      0               0              0          0  \n",
              "2      0               0              1          0  \n",
              "3      1               0              0          0  \n",
              "4      0               1              0          0  "
            ]
          },
          "execution_count": 11,
          "metadata": {},
          "output_type": "execute_result"
        }
      ],
      "source": [
        "train_csv.head()"
      ]
    },
    {
      "cell_type": "code",
      "execution_count": null,
      "metadata": {
        "id": "MUxivJyHmWt0"
      },
      "outputs": [],
      "source": [
        "def get_labels(row):\n",
        "  class_labels = classes\n",
        "\n",
        "  for label in class_labels:\n",
        "    if row[label] == 1:\n",
        "      return label\n",
        "\n",
        "  return 'Unknown'"
      ]
    },
    {
      "cell_type": "code",
      "execution_count": null,
      "metadata": {
        "colab": {
          "base_uri": "https://localhost:8080/"
        },
        "id": "msTh2-hNmWv3",
        "outputId": "0395f27b-22b0-417a-c4aa-494f9764d8f2"
      },
      "outputs": [
        {
          "data": {
            "text/plain": [
              "Index(['Brazil', 'Canada', 'Finland', 'Japan', 'United-Kingdom',\n",
              "       'United-States', 'Unlabeled'],\n",
              "      dtype='object')"
            ]
          },
          "execution_count": 13,
          "metadata": {},
          "output_type": "execute_result"
        }
      ],
      "source": [
        "train_csv.columns[1:]"
      ]
    },
    {
      "cell_type": "code",
      "execution_count": null,
      "metadata": {
        "id": "UsCPXBoImWyL"
      },
      "outputs": [],
      "source": [
        "train_csv['class_labels'] = train_csv.apply(get_labels, axis=1)\n",
        "test_csv['class_labels'] = test_csv.apply(get_labels, axis=1)\n",
        "val_csv['class_labels'] = val_csv.apply(get_labels, axis=1)"
      ]
    },
    {
      "cell_type": "code",
      "execution_count": null,
      "metadata": {
        "id": "NLZnKPm4mW0X"
      },
      "outputs": [],
      "source": [
        "train_csv.drop(classes, axis=1, inplace=True)\n",
        "test_csv.drop(classes, axis=1, inplace=True)\n",
        "val_csv.drop(classes, axis=1, inplace=True)"
      ]
    },
    {
      "cell_type": "code",
      "execution_count": null,
      "metadata": {
        "colab": {
          "base_uri": "https://localhost:8080/"
        },
        "id": "a6JtKgkEmW2b",
        "outputId": "96c3bc46-8cfb-4759-8216-b5f9c9dba0d9"
      },
      "outputs": [
        {
          "name": "stdout",
          "output_type": "stream",
          "text": [
            "['Brazil' 'Finland' 'United-States' 'Japan' 'United-Kingdom' 'Canada'\n",
            " 'Unlabeled']\n",
            "['United-Kingdom' 'Finland' 'United-States' 'Brazil' 'Japan' 'Canada']\n",
            "['Brazil' 'United-States' 'Canada' 'United-Kingdom' 'Finland' 'Japan']\n"
          ]
        }
      ],
      "source": [
        "print(train_csv['class_labels'].unique())\n",
        "print(test_csv['class_labels'].unique())\n",
        "print(val_csv['class_labels'].unique())"
      ]
    },
    {
      "cell_type": "code",
      "execution_count": null,
      "metadata": {
        "colab": {
          "base_uri": "https://localhost:8080/"
        },
        "id": "ATK023hGmW4R",
        "outputId": "480f5fab-2730-4194-d542-afd37702f489"
      },
      "outputs": [
        {
          "name": "stdout",
          "output_type": "stream",
          "text": [
            "United-States     1051\n",
            "Brazil            1050\n",
            "Canada            1047\n",
            "United-Kingdom    1043\n",
            "Japan             1038\n",
            "Finland           1002\n",
            "Unlabeled            5\n",
            "Name: class_labels, dtype: int64\n"
          ]
        }
      ],
      "source": [
        "print(train_csv['class_labels'].value_counts())"
      ]
    },
    {
      "cell_type": "markdown",
      "metadata": {
        "id": "SAS7fDE9sKYn"
      },
      "source": [
        "nah ini yang Unlabeled gabakal dihilangin, tpi jdinya dimasukin ke dalem finland aja krn datanya paling dikit.\n",
        "\n",
        "kenapa begitu? karena data itu berharga :D\n",
        "\n",
        "ditambah dataset ini datanya terbatas kan, dan AlexNet architecture yang menang lombanya juga masih punya margin of error 15,3% (roughly)"
      ]
    },
    {
      "cell_type": "code",
      "execution_count": null,
      "metadata": {
        "id": "-I-kWM5QmW6s"
      },
      "outputs": [],
      "source": [
        "train_csv['class_labels'] = train_csv['class_labels'].replace('Unlabeled', 'Finland')"
      ]
    },
    {
      "cell_type": "code",
      "execution_count": null,
      "metadata": {
        "colab": {
          "base_uri": "https://localhost:8080/"
        },
        "id": "IbkX6p14mW8q",
        "outputId": "17d3676b-f3b9-4289-bf97-329313f65e3f"
      },
      "outputs": [
        {
          "name": "stdout",
          "output_type": "stream",
          "text": [
            "United-States     1051\n",
            "Brazil            1050\n",
            "Canada            1047\n",
            "United-Kingdom    1043\n",
            "Japan             1038\n",
            "Finland           1007\n",
            "Name: class_labels, dtype: int64\n"
          ]
        }
      ],
      "source": [
        "print(train_csv['class_labels'].value_counts())"
      ]
    },
    {
      "cell_type": "code",
      "execution_count": null,
      "metadata": {
        "colab": {
          "base_uri": "https://localhost:8080/",
          "height": 206
        },
        "id": "GaK4VnB7mW-x",
        "outputId": "68d44ec1-468d-46f0-a529-86540631aad5"
      },
      "outputs": [
        {
          "data": {
            "text/html": [
              "\n",
              "  <div id=\"df-324956e8-c553-41b6-95be-9c9a31f40eb2\" class=\"colab-df-container\">\n",
              "    <div>\n",
              "<style scoped>\n",
              "    .dataframe tbody tr th:only-of-type {\n",
              "        vertical-align: middle;\n",
              "    }\n",
              "\n",
              "    .dataframe tbody tr th {\n",
              "        vertical-align: top;\n",
              "    }\n",
              "\n",
              "    .dataframe thead th {\n",
              "        text-align: right;\n",
              "    }\n",
              "</style>\n",
              "<table border=\"1\" class=\"dataframe\">\n",
              "  <thead>\n",
              "    <tr style=\"text-align: right;\">\n",
              "      <th></th>\n",
              "      <th>filename</th>\n",
              "      <th>class_labels</th>\n",
              "    </tr>\n",
              "  </thead>\n",
              "  <tbody>\n",
              "    <tr>\n",
              "      <th>0</th>\n",
              "      <td>canvas_1630049629_jpg.rf.9173ca80a66b0e0aa8b69...</td>\n",
              "      <td>Brazil</td>\n",
              "    </tr>\n",
              "    <tr>\n",
              "      <th>1</th>\n",
              "      <td>60-61946-24-87396_jpg.rf.917936eddea98c4223b89...</td>\n",
              "      <td>Finland</td>\n",
              "    </tr>\n",
              "    <tr>\n",
              "      <th>2</th>\n",
              "      <td>canvas_1629307990_jpg.rf.9190555e23a965ec04131...</td>\n",
              "      <td>United-States</td>\n",
              "    </tr>\n",
              "    <tr>\n",
              "      <th>3</th>\n",
              "      <td>canvas_1629419207_jpg.rf.919b5ce1d4fac10e637b7...</td>\n",
              "      <td>Japan</td>\n",
              "    </tr>\n",
              "    <tr>\n",
              "      <th>4</th>\n",
              "      <td>canvas_1629825120_jpg.rf.91a363fc8d278b53a90d2...</td>\n",
              "      <td>United-Kingdom</td>\n",
              "    </tr>\n",
              "  </tbody>\n",
              "</table>\n",
              "</div>\n",
              "    <div class=\"colab-df-buttons\">\n",
              "\n",
              "  <div class=\"colab-df-container\">\n",
              "    <button class=\"colab-df-convert\" onclick=\"convertToInteractive('df-324956e8-c553-41b6-95be-9c9a31f40eb2')\"\n",
              "            title=\"Convert this dataframe to an interactive table.\"\n",
              "            style=\"display:none;\">\n",
              "\n",
              "  <svg xmlns=\"http://www.w3.org/2000/svg\" height=\"24px\" viewBox=\"0 -960 960 960\">\n",
              "    <path d=\"M120-120v-720h720v720H120Zm60-500h600v-160H180v160Zm220 220h160v-160H400v160Zm0 220h160v-160H400v160ZM180-400h160v-160H180v160Zm440 0h160v-160H620v160ZM180-180h160v-160H180v160Zm440 0h160v-160H620v160Z\"/>\n",
              "  </svg>\n",
              "    </button>\n",
              "\n",
              "  <style>\n",
              "    .colab-df-container {\n",
              "      display:flex;\n",
              "      gap: 12px;\n",
              "    }\n",
              "\n",
              "    .colab-df-convert {\n",
              "      background-color: #E8F0FE;\n",
              "      border: none;\n",
              "      border-radius: 50%;\n",
              "      cursor: pointer;\n",
              "      display: none;\n",
              "      fill: #1967D2;\n",
              "      height: 32px;\n",
              "      padding: 0 0 0 0;\n",
              "      width: 32px;\n",
              "    }\n",
              "\n",
              "    .colab-df-convert:hover {\n",
              "      background-color: #E2EBFA;\n",
              "      box-shadow: 0px 1px 2px rgba(60, 64, 67, 0.3), 0px 1px 3px 1px rgba(60, 64, 67, 0.15);\n",
              "      fill: #174EA6;\n",
              "    }\n",
              "\n",
              "    .colab-df-buttons div {\n",
              "      margin-bottom: 4px;\n",
              "    }\n",
              "\n",
              "    [theme=dark] .colab-df-convert {\n",
              "      background-color: #3B4455;\n",
              "      fill: #D2E3FC;\n",
              "    }\n",
              "\n",
              "    [theme=dark] .colab-df-convert:hover {\n",
              "      background-color: #434B5C;\n",
              "      box-shadow: 0px 1px 3px 1px rgba(0, 0, 0, 0.15);\n",
              "      filter: drop-shadow(0px 1px 2px rgba(0, 0, 0, 0.3));\n",
              "      fill: #FFFFFF;\n",
              "    }\n",
              "  </style>\n",
              "\n",
              "    <script>\n",
              "      const buttonEl =\n",
              "        document.querySelector('#df-324956e8-c553-41b6-95be-9c9a31f40eb2 button.colab-df-convert');\n",
              "      buttonEl.style.display =\n",
              "        google.colab.kernel.accessAllowed ? 'block' : 'none';\n",
              "\n",
              "      async function convertToInteractive(key) {\n",
              "        const element = document.querySelector('#df-324956e8-c553-41b6-95be-9c9a31f40eb2');\n",
              "        const dataTable =\n",
              "          await google.colab.kernel.invokeFunction('convertToInteractive',\n",
              "                                                    [key], {});\n",
              "        if (!dataTable) return;\n",
              "\n",
              "        const docLinkHtml = 'Like what you see? Visit the ' +\n",
              "          '<a target=\"_blank\" href=https://colab.research.google.com/notebooks/data_table.ipynb>data table notebook</a>'\n",
              "          + ' to learn more about interactive tables.';\n",
              "        element.innerHTML = '';\n",
              "        dataTable['output_type'] = 'display_data';\n",
              "        await google.colab.output.renderOutput(dataTable, element);\n",
              "        const docLink = document.createElement('div');\n",
              "        docLink.innerHTML = docLinkHtml;\n",
              "        element.appendChild(docLink);\n",
              "      }\n",
              "    </script>\n",
              "  </div>\n",
              "\n",
              "\n",
              "<div id=\"df-94573e22-f1d1-487c-b446-7e0631e8780c\">\n",
              "  <button class=\"colab-df-quickchart\" onclick=\"quickchart('df-94573e22-f1d1-487c-b446-7e0631e8780c')\"\n",
              "            title=\"Suggest charts\"\n",
              "            style=\"display:none;\">\n",
              "\n",
              "<svg xmlns=\"http://www.w3.org/2000/svg\" height=\"24px\"viewBox=\"0 0 24 24\"\n",
              "     width=\"24px\">\n",
              "    <g>\n",
              "        <path d=\"M19 3H5c-1.1 0-2 .9-2 2v14c0 1.1.9 2 2 2h14c1.1 0 2-.9 2-2V5c0-1.1-.9-2-2-2zM9 17H7v-7h2v7zm4 0h-2V7h2v10zm4 0h-2v-4h2v4z\"/>\n",
              "    </g>\n",
              "</svg>\n",
              "  </button>\n",
              "\n",
              "<style>\n",
              "  .colab-df-quickchart {\n",
              "      --bg-color: #E8F0FE;\n",
              "      --fill-color: #1967D2;\n",
              "      --hover-bg-color: #E2EBFA;\n",
              "      --hover-fill-color: #174EA6;\n",
              "      --disabled-fill-color: #AAA;\n",
              "      --disabled-bg-color: #DDD;\n",
              "  }\n",
              "\n",
              "  [theme=dark] .colab-df-quickchart {\n",
              "      --bg-color: #3B4455;\n",
              "      --fill-color: #D2E3FC;\n",
              "      --hover-bg-color: #434B5C;\n",
              "      --hover-fill-color: #FFFFFF;\n",
              "      --disabled-bg-color: #3B4455;\n",
              "      --disabled-fill-color: #666;\n",
              "  }\n",
              "\n",
              "  .colab-df-quickchart {\n",
              "    background-color: var(--bg-color);\n",
              "    border: none;\n",
              "    border-radius: 50%;\n",
              "    cursor: pointer;\n",
              "    display: none;\n",
              "    fill: var(--fill-color);\n",
              "    height: 32px;\n",
              "    padding: 0;\n",
              "    width: 32px;\n",
              "  }\n",
              "\n",
              "  .colab-df-quickchart:hover {\n",
              "    background-color: var(--hover-bg-color);\n",
              "    box-shadow: 0 1px 2px rgba(60, 64, 67, 0.3), 0 1px 3px 1px rgba(60, 64, 67, 0.15);\n",
              "    fill: var(--button-hover-fill-color);\n",
              "  }\n",
              "\n",
              "  .colab-df-quickchart-complete:disabled,\n",
              "  .colab-df-quickchart-complete:disabled:hover {\n",
              "    background-color: var(--disabled-bg-color);\n",
              "    fill: var(--disabled-fill-color);\n",
              "    box-shadow: none;\n",
              "  }\n",
              "\n",
              "  .colab-df-spinner {\n",
              "    border: 2px solid var(--fill-color);\n",
              "    border-color: transparent;\n",
              "    border-bottom-color: var(--fill-color);\n",
              "    animation:\n",
              "      spin 1s steps(1) infinite;\n",
              "  }\n",
              "\n",
              "  @keyframes spin {\n",
              "    0% {\n",
              "      border-color: transparent;\n",
              "      border-bottom-color: var(--fill-color);\n",
              "      border-left-color: var(--fill-color);\n",
              "    }\n",
              "    20% {\n",
              "      border-color: transparent;\n",
              "      border-left-color: var(--fill-color);\n",
              "      border-top-color: var(--fill-color);\n",
              "    }\n",
              "    30% {\n",
              "      border-color: transparent;\n",
              "      border-left-color: var(--fill-color);\n",
              "      border-top-color: var(--fill-color);\n",
              "      border-right-color: var(--fill-color);\n",
              "    }\n",
              "    40% {\n",
              "      border-color: transparent;\n",
              "      border-right-color: var(--fill-color);\n",
              "      border-top-color: var(--fill-color);\n",
              "    }\n",
              "    60% {\n",
              "      border-color: transparent;\n",
              "      border-right-color: var(--fill-color);\n",
              "    }\n",
              "    80% {\n",
              "      border-color: transparent;\n",
              "      border-right-color: var(--fill-color);\n",
              "      border-bottom-color: var(--fill-color);\n",
              "    }\n",
              "    90% {\n",
              "      border-color: transparent;\n",
              "      border-bottom-color: var(--fill-color);\n",
              "    }\n",
              "  }\n",
              "</style>\n",
              "\n",
              "  <script>\n",
              "    async function quickchart(key) {\n",
              "      const quickchartButtonEl =\n",
              "        document.querySelector('#' + key + ' button');\n",
              "      quickchartButtonEl.disabled = true;  // To prevent multiple clicks.\n",
              "      quickchartButtonEl.classList.add('colab-df-spinner');\n",
              "      try {\n",
              "        const charts = await google.colab.kernel.invokeFunction(\n",
              "            'suggestCharts', [key], {});\n",
              "      } catch (error) {\n",
              "        console.error('Error during call to suggestCharts:', error);\n",
              "      }\n",
              "      quickchartButtonEl.classList.remove('colab-df-spinner');\n",
              "      quickchartButtonEl.classList.add('colab-df-quickchart-complete');\n",
              "    }\n",
              "    (() => {\n",
              "      let quickchartButtonEl =\n",
              "        document.querySelector('#df-94573e22-f1d1-487c-b446-7e0631e8780c button');\n",
              "      quickchartButtonEl.style.display =\n",
              "        google.colab.kernel.accessAllowed ? 'block' : 'none';\n",
              "    })();\n",
              "  </script>\n",
              "</div>\n",
              "    </div>\n",
              "  </div>\n"
            ],
            "text/plain": [
              "                                            filename    class_labels\n",
              "0  canvas_1630049629_jpg.rf.9173ca80a66b0e0aa8b69...          Brazil\n",
              "1  60-61946-24-87396_jpg.rf.917936eddea98c4223b89...         Finland\n",
              "2  canvas_1629307990_jpg.rf.9190555e23a965ec04131...   United-States\n",
              "3  canvas_1629419207_jpg.rf.919b5ce1d4fac10e637b7...           Japan\n",
              "4  canvas_1629825120_jpg.rf.91a363fc8d278b53a90d2...  United-Kingdom"
            ]
          },
          "execution_count": 20,
          "metadata": {},
          "output_type": "execute_result"
        }
      ],
      "source": [
        "train_csv.head()"
      ]
    },
    {
      "cell_type": "code",
      "execution_count": null,
      "metadata": {
        "colab": {
          "base_uri": "https://localhost:8080/"
        },
        "id": "H7mcSMfAmXAr",
        "outputId": "ef008fd2-2eee-443d-a8df-eb524cd7c244"
      },
      "outputs": [
        {
          "data": {
            "text/plain": [
              "array(['Brazil', 'Finland', 'United-States', 'Japan', 'United-Kingdom',\n",
              "       'Canada'], dtype=object)"
            ]
          },
          "execution_count": 21,
          "metadata": {},
          "output_type": "execute_result"
        }
      ],
      "source": [
        "labels = train_csv['class_labels'].unique()\n",
        "labels"
      ]
    },
    {
      "cell_type": "code",
      "execution_count": null,
      "metadata": {
        "colab": {
          "base_uri": "https://localhost:8080/"
        },
        "id": "07TjexUoslES",
        "outputId": "5f1b318d-041d-4606-d27a-7388228c61c3"
      },
      "outputs": [
        {
          "data": {
            "text/plain": [
              "6"
            ]
          },
          "execution_count": 22,
          "metadata": {},
          "output_type": "execute_result"
        }
      ],
      "source": [
        "num_classes = len(labels)\n",
        "num_classes"
      ]
    },
    {
      "cell_type": "markdown",
      "metadata": {
        "id": "LSkDVMrDsozx"
      },
      "source": [
        "## Preprocessing"
      ]
    },
    {
      "cell_type": "markdown",
      "metadata": {
        "id": "ScLDGzj2swuJ"
      },
      "source": [
        "disini datanya gw coba blur (sebelumnya engga)"
      ]
    },
    {
      "cell_type": "code",
      "execution_count": null,
      "metadata": {
        "id": "90oaybofslGW"
      },
      "outputs": [],
      "source": [
        "def preprocess_image(image):\n",
        "    img = cv2.GaussianBlur(image, (5, 5), 0)\n",
        "    return img"
      ]
    },
    {
      "cell_type": "code",
      "execution_count": null,
      "metadata": {
        "id": "2hoZgpcaslIN"
      },
      "outputs": [],
      "source": [
        "train_datagen = ImageDataGenerator(\n",
        "    preprocessing_function=preprocess_image,\n",
        "    rescale=1./255.0,\n",
        "    shear_range=0.2,\n",
        "    zoom_range=0.2,\n",
        "    horizontal_flip=True\n",
        ")\n",
        "\n",
        "test_datagen = ImageDataGenerator(rescale=1./255.0, preprocessing_function=preprocess_image)\n",
        "\n",
        "val_datagen = ImageDataGenerator(rescale=1./255.0, preprocessing_function=preprocess_image)"
      ]
    },
    {
      "cell_type": "code",
      "execution_count": null,
      "metadata": {
        "colab": {
          "base_uri": "https://localhost:8080/"
        },
        "id": "OcAmSR0ZslKE",
        "outputId": "86c618f8-b94b-4ed5-aa97-fcc13d084982"
      },
      "outputs": [
        {
          "name": "stdout",
          "output_type": "stream",
          "text": [
            "Found 6145 validated image filenames belonging to 6 classes.\n"
          ]
        },
        {
          "name": "stderr",
          "output_type": "stream",
          "text": [
            "/usr/local/lib/python3.10/dist-packages/keras/preprocessing/image.py:1137: UserWarning: Found 91 invalid image filename(s) in x_col=\"filename\". These filename(s) will be ignored.\n",
            "  warnings.warn(\n"
          ]
        },
        {
          "name": "stdout",
          "output_type": "stream",
          "text": [
            "Found 815 validated image filenames belonging to 6 classes.\n"
          ]
        },
        {
          "name": "stderr",
          "output_type": "stream",
          "text": [
            "/usr/local/lib/python3.10/dist-packages/keras/preprocessing/image.py:1137: UserWarning: Found 79 invalid image filename(s) in x_col=\"filename\". These filename(s) will be ignored.\n",
            "  warnings.warn(\n"
          ]
        },
        {
          "name": "stdout",
          "output_type": "stream",
          "text": [
            "Found 1779 validated image filenames belonging to 6 classes.\n"
          ]
        },
        {
          "name": "stderr",
          "output_type": "stream",
          "text": [
            "/usr/local/lib/python3.10/dist-packages/keras/preprocessing/image.py:1137: UserWarning: Found 3 invalid image filename(s) in x_col=\"filename\". These filename(s) will be ignored.\n",
            "  warnings.warn(\n"
          ]
        }
      ],
      "source": [
        "train_gen = train_datagen.flow_from_dataframe(\n",
        "              dataframe=train_csv,\n",
        "              directory=train_dir,\n",
        "              x_col='filename',\n",
        "              y_col='class_labels',\n",
        "              target_size=(img_h, img_w),\n",
        "              batch_size=BATCH_SIZE,\n",
        "              shuffle=True,\n",
        "              class_mode='categorical')\n",
        "\n",
        "test_gen = test_datagen.flow_from_dataframe(\n",
        "              dataframe=test_csv,\n",
        "              directory=test_dir,\n",
        "              x_col='filename',\n",
        "              y_col='class_labels',\n",
        "              target_size=(img_h, img_w),\n",
        "              shuffle=False,\n",
        "              class_mode='categorical')\n",
        "\n",
        "val_gen = val_datagen.flow_from_dataframe(\n",
        "              dataframe=val_csv,\n",
        "              directory=val_dir,\n",
        "              x_col='filename',\n",
        "              y_col='class_labels',\n",
        "              target_size=(img_h, img_w),\n",
        "              batch_size=BATCH_SIZE,\n",
        "              shuffle=True,\n",
        "              class_mode='categorical')"
      ]
    },
    {
      "cell_type": "code",
      "execution_count": null,
      "metadata": {
        "colab": {
          "base_uri": "https://localhost:8080/"
        },
        "id": "KnttcmrmslL-",
        "outputId": "9e574b0a-4004-49a2-8d51-5f94bc58f39c"
      },
      "outputs": [
        {
          "data": {
            "text/plain": [
              "(6145, 1779)"
            ]
          },
          "execution_count": 26,
          "metadata": {},
          "output_type": "execute_result"
        }
      ],
      "source": [
        "train_num = train_gen.samples\n",
        "val_num = val_gen.samples\n",
        "\n",
        "train_num, val_num"
      ]
    },
    {
      "cell_type": "markdown",
      "metadata": {
        "id": "6JMC8V4MtBNo"
      },
      "source": [
        "## Alex Net Model"
      ]
    },
    {
      "cell_type": "code",
      "execution_count": null,
      "metadata": {
        "id": "5lMxFCsEslN-"
      },
      "outputs": [],
      "source": [
        "from tensorflow.keras import Sequential\n",
        "from tensorflow.keras.layers import Conv2D, MaxPooling2D, Flatten, Dense, BatchNormalization, Dropout\n",
        "from tensorflow.keras.optimizers import Adam, SGD\n",
        "from tensorflow.keras.callbacks import EarlyStopping\n",
        "from tensorflow.keras.losses import CategoricalCrossentropy\n",
        "from tensorflow.keras.metrics import TopKCategoricalAccuracy"
      ]
    },
    {
      "cell_type": "code",
      "execution_count": null,
      "metadata": {
        "id": "s_Nc4MSk8vHW"
      },
      "outputs": [],
      "source": [
        "del model ##buat clear model"
      ]
    },
    {
      "cell_type": "markdown",
      "metadata": {
        "id": "nPxCjriztHP_"
      },
      "source": [
        "Ini base architecturenya diambil dri docs AlexNetnya, trus diganti\""
      ]
    },
    {
      "cell_type": "code",
      "execution_count": null,
      "metadata": {
        "colab": {
          "base_uri": "https://localhost:8080/"
        },
        "id": "nVg_-M0yslP1",
        "outputId": "85114a39-e0f3-4fe1-8261-83bc1301a910"
      },
      "outputs": [
        {
          "data": {
            "text/plain": [
              "(224, 224, 3)"
            ]
          },
          "execution_count": 37,
          "metadata": {},
          "output_type": "execute_result"
        }
      ],
      "source": [
        "input_shape = (img_h, img_w, 3) #param ke-3 ini jumlah channel dri gambarnya\n",
        "input_shape"
      ]
    },
    {
      "cell_type": "markdown",
      "metadata": {
        "id": "f63BG3Vt9Fxl"
      },
      "source": [
        "Original Architecture"
      ]
    },
    {
      "cell_type": "code",
      "execution_count": null,
      "metadata": {
        "colab": {
          "base_uri": "https://localhost:8080/"
        },
        "id": "wGPgNRrJ9EqI",
        "outputId": "40a55b0a-5c76-4827-b2a6-c9f6f6214811"
      },
      "outputs": [
        {
          "name": "stdout",
          "output_type": "stream",
          "text": [
            "Model: \"sequential_1\"\n",
            "_________________________________________________________________\n",
            " Layer (type)                Output Shape              Param #   \n",
            "=================================================================\n",
            " conv2d_5 (Conv2D)           (None, 56, 56, 48)        17472     \n",
            "                                                                 \n",
            " batch_normalization_5 (Batc  (None, 56, 56, 48)       192       \n",
            " hNormalization)                                                 \n",
            "                                                                 \n",
            " max_pooling2d_3 (MaxPooling  (None, 27, 27, 48)       0         \n",
            " 2D)                                                             \n",
            "                                                                 \n",
            " conv2d_6 (Conv2D)           (None, 27, 27, 128)       153728    \n",
            "                                                                 \n",
            " batch_normalization_6 (Batc  (None, 27, 27, 128)      512       \n",
            " hNormalization)                                                 \n",
            "                                                                 \n",
            " max_pooling2d_4 (MaxPooling  (None, 13, 13, 128)      0         \n",
            " 2D)                                                             \n",
            "                                                                 \n",
            " conv2d_7 (Conv2D)           (None, 13, 13, 192)       221376    \n",
            "                                                                 \n",
            " conv2d_8 (Conv2D)           (None, 13, 13, 192)       331968    \n",
            "                                                                 \n",
            " conv2d_9 (Conv2D)           (None, 13, 13, 128)       221312    \n",
            "                                                                 \n",
            " batch_normalization_7 (Batc  (None, 13, 13, 128)      512       \n",
            " hNormalization)                                                 \n",
            "                                                                 \n",
            " max_pooling2d_5 (MaxPooling  (None, 6, 6, 128)        0         \n",
            " 2D)                                                             \n",
            "                                                                 \n",
            " flatten_1 (Flatten)         (None, 4608)              0         \n",
            "                                                                 \n",
            " dense_3 (Dense)             (None, 2048)              9439232   \n",
            "                                                                 \n",
            " batch_normalization_8 (Batc  (None, 2048)             8192      \n",
            " hNormalization)                                                 \n",
            "                                                                 \n",
            " dropout_2 (Dropout)         (None, 2048)              0         \n",
            "                                                                 \n",
            " dense_4 (Dense)             (None, 1024)              2098176   \n",
            "                                                                 \n",
            " batch_normalization_9 (Batc  (None, 1024)             4096      \n",
            " hNormalization)                                                 \n",
            "                                                                 \n",
            " dropout_3 (Dropout)         (None, 1024)              0         \n",
            "                                                                 \n",
            " dense_5 (Dense)             (None, 6)                 6150      \n",
            "                                                                 \n",
            "=================================================================\n",
            "Total params: 12,502,918\n",
            "Trainable params: 12,496,166\n",
            "Non-trainable params: 6,752\n",
            "_________________________________________________________________\n"
          ]
        }
      ],
      "source": [
        "model = Sequential([\n",
        "    # Convolutional block 1\n",
        "    Conv2D(filters=48, kernel_size=(11, 11), strides=4, padding='same', activation='relu', input_shape=input_shape),\n",
        "    BatchNormalization(),\n",
        "    MaxPooling2D(pool_size=(3, 3), strides=2),\n",
        "\n",
        "    # Convolutional block 2\n",
        "    Conv2D(filters=128, kernel_size=(5, 5), padding='same', activation='relu'),\n",
        "    BatchNormalization(),\n",
        "    MaxPooling2D(pool_size=(3, 3), strides=2),\n",
        "\n",
        "    # Convolutional block 3\n",
        "    Conv2D(filters=192, kernel_size=(3, 3), padding='same', activation='relu'),\n",
        "    Conv2D(filters=192, kernel_size=(3, 3), padding='same', activation='relu'),\n",
        "    Conv2D(filters=128, kernel_size=(3, 3), padding='same', activation='relu'),\n",
        "    BatchNormalization(),\n",
        "    MaxPooling2D(pool_size=(3, 3), strides=2),\n",
        "\n",
        "    # Flattening the layers\n",
        "    Flatten(),\n",
        "\n",
        "    # Fully connected layers\n",
        "    Dense(2048, activation='relu'),\n",
        "    BatchNormalization(),\n",
        "    Dropout(0.5),\n",
        "\n",
        "    Dense(1024, activation='relu'),\n",
        "    BatchNormalization(),\n",
        "    Dropout(0.5),\n",
        "\n",
        "    # Output layer\n",
        "    Dense(num_classes, activation='softmax')\n",
        "])\n",
        "\n",
        "model.summary()"
      ]
    },
    {
      "cell_type": "code",
      "execution_count": null,
      "metadata": {
        "id": "g9t6OikIslRZ"
      },
      "outputs": [],
      "source": [
        "model = Sequential([\n",
        "    # block 1\n",
        "    Conv2D(filters=32, kernel_size=(3,3), strides=1, padding=\"same\", activation=\"relu\", input_shape=input_shape),\n",
        "    BatchNormalization(),\n",
        "    MaxPooling2D(pool_size=(2,2), strides=2, padding=\"valid\"),\n",
        "\n",
        "    # block 2\n",
        "    Conv2D(filters=64, kernel_size=(3,3), strides=1, padding=\"same\", activation=\"relu\"),\n",
        "    BatchNormalization(),\n",
        "    MaxPooling2D(pool_size=(2,2), strides=2, padding=\"valid\"),\n",
        "\n",
        "    # block 3\n",
        "    Conv2D(filters=128, kernel_size=(3,3), strides=1, padding=\"same\", activation=\"relu\"),\n",
        "    Conv2D(filters=128, kernel_size=(3,3), strides=1, padding=\"same\", activation=\"relu\"),\n",
        "    Conv2D(filters=64, kernel_size=(3,3), strides=1, padding=\"same\", activation=\"relu\"),\n",
        "    BatchNormalization(),\n",
        "    MaxPooling2D(pool_size=(2,2), strides=2, padding=\"valid\"),\n",
        "\n",
        "    # connected layers\n",
        "    Flatten(),\n",
        "    Dense(512, activation=\"relu\"),\n",
        "    BatchNormalization(),\n",
        "    Dropout(0.5),\n",
        "\n",
        "    Dense(256, activation='relu'),\n",
        "    BatchNormalization(),\n",
        "    Dropout(0.5),\n",
        "\n",
        "    # output layer\n",
        "    Dense(num_classes, activation='softmax')\n",
        "])"
      ]
    },
    {
      "cell_type": "code",
      "execution_count": null,
      "metadata": {
        "id": "xqYDzvVJ9Cw8"
      },
      "outputs": [],
      "source": []
    },
    {
      "cell_type": "code",
      "execution_count": null,
      "metadata": {
        "colab": {
          "base_uri": "https://localhost:8080/"
        },
        "id": "s6PK1-LAslTi",
        "outputId": "d30649e7-a984-4079-ce79-906803532762"
      },
      "outputs": [
        {
          "name": "stdout",
          "output_type": "stream",
          "text": [
            "Model: \"sequential\"\n",
            "_________________________________________________________________\n",
            " Layer (type)                Output Shape              Param #   \n",
            "=================================================================\n",
            " conv2d (Conv2D)             (None, 224, 224, 32)      896       \n",
            "                                                                 \n",
            " batch_normalization (BatchN  (None, 224, 224, 32)     128       \n",
            " ormalization)                                                   \n",
            "                                                                 \n",
            " max_pooling2d (MaxPooling2D  (None, 112, 112, 32)     0         \n",
            " )                                                               \n",
            "                                                                 \n",
            " conv2d_1 (Conv2D)           (None, 112, 112, 64)      18496     \n",
            "                                                                 \n",
            " batch_normalization_1 (Batc  (None, 112, 112, 64)     256       \n",
            " hNormalization)                                                 \n",
            "                                                                 \n",
            " max_pooling2d_1 (MaxPooling  (None, 56, 56, 64)       0         \n",
            " 2D)                                                             \n",
            "                                                                 \n",
            " conv2d_2 (Conv2D)           (None, 56, 56, 128)       73856     \n",
            "                                                                 \n",
            " conv2d_3 (Conv2D)           (None, 56, 56, 128)       147584    \n",
            "                                                                 \n",
            " conv2d_4 (Conv2D)           (None, 56, 56, 64)        73792     \n",
            "                                                                 \n",
            " batch_normalization_2 (Batc  (None, 56, 56, 64)       256       \n",
            " hNormalization)                                                 \n",
            "                                                                 \n",
            " max_pooling2d_2 (MaxPooling  (None, 28, 28, 64)       0         \n",
            " 2D)                                                             \n",
            "                                                                 \n",
            " flatten (Flatten)           (None, 50176)             0         \n",
            "                                                                 \n",
            " dense (Dense)               (None, 512)               25690624  \n",
            "                                                                 \n",
            " batch_normalization_3 (Batc  (None, 512)              2048      \n",
            " hNormalization)                                                 \n",
            "                                                                 \n",
            " dropout (Dropout)           (None, 512)               0         \n",
            "                                                                 \n",
            " dense_1 (Dense)             (None, 256)               131328    \n",
            "                                                                 \n",
            " batch_normalization_4 (Batc  (None, 256)              1024      \n",
            " hNormalization)                                                 \n",
            "                                                                 \n",
            " dropout_1 (Dropout)         (None, 256)               0         \n",
            "                                                                 \n",
            " dense_2 (Dense)             (None, 6)                 1542      \n",
            "                                                                 \n",
            "=================================================================\n",
            "Total params: 26,141,830\n",
            "Trainable params: 26,139,974\n",
            "Non-trainable params: 1,856\n",
            "_________________________________________________________________\n"
          ]
        }
      ],
      "source": [
        "model.summary()"
      ]
    },
    {
      "cell_type": "code",
      "execution_count": null,
      "metadata": {
        "id": "kdNqKvQo9PBt"
      },
      "outputs": [],
      "source": [
        "optimizer = Adam(learning_rate=0.001)\n",
        "loss = CategoricalCrossentropy()\n",
        "metrics = [\n",
        "    'accuracy',\n",
        "    TopKCategoricalAccuracy(k=3, name='top_k_accuracy')\n",
        "]"
      ]
    },
    {
      "cell_type": "code",
      "execution_count": null,
      "metadata": {
        "id": "TYzBDr7y9W-F"
      },
      "outputs": [],
      "source": [
        "model.compile(optimizer=optimizer, loss=loss, metrics=metrics)"
      ]
    },
    {
      "cell_type": "markdown",
      "metadata": {
        "id": "rVnXUr7fuU6R"
      },
      "source": [
        "Disini akan dicoba menggunakan opotimizer SGD (bukan adam) dan buat metricsnya, disini akan ditambahkan Top 3 Accuracy. Jadi guessnya akan ditampilkan 3 teratas"
      ]
    },
    {
      "cell_type": "code",
      "execution_count": null,
      "metadata": {
        "id": "lD9VdZxOuSQD"
      },
      "outputs": [],
      "source": [
        "model.compile(optimizer=opt, loss=loss, metrics=metrics)"
      ]
    },
    {
      "cell_type": "code",
      "execution_count": null,
      "metadata": {
        "colab": {
          "base_uri": "https://localhost:8080/"
        },
        "id": "Y8I-FO2uuSR3",
        "outputId": "513ab73a-14da-4d20-beef-97f90f0e16a2"
      },
      "outputs": [
        {
          "data": {
            "text/plain": [
              "(None, 6)"
            ]
          },
          "execution_count": 42,
          "metadata": {},
          "output_type": "execute_result"
        }
      ],
      "source": [
        "model.output_shape"
      ]
    },
    {
      "cell_type": "markdown",
      "metadata": {
        "id": "7hxpMlA7wQfD"
      },
      "source": [
        "Buat Training, seperti biasa bakal pake EarlyStop buat cegah underfitting ataupun overfitting"
      ]
    },
    {
      "cell_type": "code",
      "execution_count": null,
      "metadata": {
        "id": "S0ofF3gruSTt"
      },
      "outputs": [],
      "source": [
        "early_stopping = EarlyStopping(monitor='val_loss', patience=5, restore_best_weights=True)"
      ]
    },
    {
      "cell_type": "code",
      "execution_count": null,
      "metadata": {
        "colab": {
          "base_uri": "https://localhost:8080/"
        },
        "id": "499ZGt4MuSVr",
        "outputId": "2f576e0e-4e5e-4952-ca41-f1a127ec51fe"
      },
      "outputs": [
        {
          "name": "stdout",
          "output_type": "stream",
          "text": [
            "Epoch 1/30\n",
            "193/193 [==============================] - 561s 3s/step - loss: 2.6178 - accuracy: 0.2129 - top_k_accuracy: 0.5676 - val_loss: 1.9616 - val_accuracy: 0.2451 - val_top_k_accuracy: 0.6234\n",
            "Epoch 2/30\n",
            "193/193 [==============================] - 548s 3s/step - loss: 2.1710 - accuracy: 0.2340 - top_k_accuracy: 0.6018 - val_loss: 1.9027 - val_accuracy: 0.2957 - val_top_k_accuracy: 0.6627\n",
            "Epoch 3/30\n",
            "193/193 [==============================] - 551s 3s/step - loss: 2.0084 - accuracy: 0.2553 - top_k_accuracy: 0.6218 - val_loss: 1.7175 - val_accuracy: 0.2771 - val_top_k_accuracy: 0.6745\n",
            "Epoch 4/30\n",
            "193/193 [==============================] - 538s 3s/step - loss: 1.9070 - accuracy: 0.2744 - top_k_accuracy: 0.6526 - val_loss: 1.7896 - val_accuracy: 0.2839 - val_top_k_accuracy: 0.6818\n",
            "Epoch 5/30\n",
            "193/193 [==============================] - 543s 3s/step - loss: 1.8325 - accuracy: 0.2941 - top_k_accuracy: 0.6758 - val_loss: 1.7743 - val_accuracy: 0.3221 - val_top_k_accuracy: 0.6920\n",
            "Epoch 6/30\n",
            "193/193 [==============================] - 547s 3s/step - loss: 1.7379 - accuracy: 0.3157 - top_k_accuracy: 0.7162 - val_loss: 1.9507 - val_accuracy: 0.3047 - val_top_k_accuracy: 0.6599\n",
            "Epoch 7/30\n",
            "193/193 [==============================] - 541s 3s/step - loss: 1.7229 - accuracy: 0.3234 - top_k_accuracy: 0.7108 - val_loss: 2.1241 - val_accuracy: 0.2861 - val_top_k_accuracy: 0.6425\n",
            "Epoch 8/30\n",
            "193/193 [==============================] - 548s 3s/step - loss: 1.6598 - accuracy: 0.3447 - top_k_accuracy: 0.7359 - val_loss: 2.4440 - val_accuracy: 0.2333 - val_top_k_accuracy: 0.6352\n"
          ]
        }
      ],
      "source": [
        "history = model.fit(train_gen, epochs=EPOCHS, validation_data=val_gen, callbacks=[early_stopping], batch_size=BATCH_SIZE)"
      ]
    },
    {
      "cell_type": "code",
      "execution_count": null,
      "metadata": {
        "id": "l6ywaZ-muSXh"
      },
      "outputs": [],
      "source": [
        "model.save('/content/drive/MyDrive/ASLAB TPA WEB/alexnet2.h5')\n",
        "model.save_weights('/content/drive/MyDrive/ASLAB TPA WEB/alexnet_weight2.h5')"
      ]
    },
    {
      "cell_type": "code",
      "execution_count": null,
      "metadata": {
        "colab": {
          "base_uri": "https://localhost:8080/",
          "height": 427
        },
        "id": "jEu6rrb-uSZR",
        "outputId": "b8685ca1-2aaf-48d6-8c62-cedfacbc66e6"
      },
      "outputs": [
        {
          "data": {
            "image/png": "[encoded data removed]",
            "text/plain": [
              "<Figure size 2000x500 with 3 Axes>"
            ]
          },
          "metadata": {},
          "output_type": "display_data"
        }
      ],
      "source": [
        "plt.figure(figsize=(20,5))\n",
        "plt.subplot(1, 3, 1)\n",
        "plt.title('Training vs Validation Loss')\n",
        "plt.plot(history.history['loss'], label='training loss', color='lightblue', marker='o')\n",
        "plt.plot(history.history['val_loss'], label='validation loss', color='orchid', marker='o')\n",
        "plt.xlabel('epoch')\n",
        "plt.ylabel('loss')\n",
        "plt.legend()\n",
        "\n",
        "plt.subplot(1, 3, 2)\n",
        "plt.title('Training vs Validation Accuracy')\n",
        "plt.plot(history.history['accuracy'], label='training accuracy', color='lightblue', marker='o')\n",
        "plt.plot(history.history['val_accuracy'], label='validation accuracy', color='orchid', marker='o')\n",
        "plt.xlabel('epoch')\n",
        "plt.ylabel('accuracy')\n",
        "plt.legend()\n",
        "\n",
        "plt.subplot(1, 3, 3)\n",
        "plt.title('Training vs Validation Top-K Accuracy')\n",
        "plt.plot(history.history['top_k_accuracy'], label='training top-k accuracy', color='lightblue', marker='o')\n",
        "plt.plot(history.history['val_top_k_accuracy'], label='validation top-k accuracy', color='orchid', marker='o')\n",
        "plt.xlabel('epoch')\n",
        "plt.ylabel('top-k accuracy')\n",
        "plt.legend()\n",
        "\n",
        "plt.show()"
      ]
    },
    {
      "cell_type": "code",
      "execution_count": null,
      "metadata": {
        "id": "hnQXfip9uSbN",
        "outputId": "e35c508b-216d-4e56-d2f8-c8cc84ae1aba",
        "colab": {
          "base_uri": "https://localhost:8080/",
          "height": 232
        }
      },
      "outputs": [
        {
          "output_type": "error",
          "ename": "NameError",
          "evalue": "name 'test_gen' is not defined",
          "traceback": [
            "\u001b[0;31m---------------------------------------------------------------------------\u001b[0m",
            "\u001b[0;31mNameError\u001b[0m                                 Traceback (most recent call last)",
            "\u001b[0;32m<ipython-input-1-f4289345252c>\u001b[0m in \u001b[0;36m<cell line: 1>\u001b[0;34m()\u001b[0m\n\u001b[0;32m----> 1\u001b[0;31m \u001b[0mtest_batch\u001b[0m \u001b[0;34m=\u001b[0m \u001b[0mnext\u001b[0m\u001b[0;34m(\u001b[0m\u001b[0mtest_gen\u001b[0m\u001b[0;34m)\u001b[0m\u001b[0;34m\u001b[0m\u001b[0;34m\u001b[0m\u001b[0m\n\u001b[0m\u001b[1;32m      2\u001b[0m \u001b[0mimages\u001b[0m \u001b[0;34m=\u001b[0m \u001b[0mtest_batch\u001b[0m\u001b[0;34m[\u001b[0m\u001b[0;36m0\u001b[0m\u001b[0;34m]\u001b[0m\u001b[0;34m\u001b[0m\u001b[0;34m\u001b[0m\u001b[0m\n\u001b[1;32m      3\u001b[0m \u001b[0;34m\u001b[0m\u001b[0m\n\u001b[1;32m      4\u001b[0m \u001b[0mtrue_labels\u001b[0m \u001b[0;34m=\u001b[0m \u001b[0mtest_batch\u001b[0m\u001b[0;34m[\u001b[0m\u001b[0;36m1\u001b[0m\u001b[0;34m]\u001b[0m\u001b[0;34m.\u001b[0m\u001b[0margmax\u001b[0m\u001b[0;34m(\u001b[0m\u001b[0maxis\u001b[0m\u001b[0;34m=\u001b[0m\u001b[0;36m1\u001b[0m\u001b[0;34m)\u001b[0m\u001b[0;34m\u001b[0m\u001b[0;34m\u001b[0m\u001b[0m\n",
            "\u001b[0;31mNameError\u001b[0m: name 'test_gen' is not defined"
          ]
        }
      ],
      "source": [
        "test_batch = next(test_gen)\n",
        "images = test_batch[0]\n",
        "\n",
        "true_labels = test_batch[1].argmax(axis=1)"
      ]
    },
    {
      "cell_type": "code",
      "execution_count": null,
      "metadata": {
        "id": "ycWU-NmLuSdQ"
      },
      "outputs": [],
      "source": [
        "res = model.evaluate(test_gen)"
      ]
    },
    {
      "cell_type": "code",
      "execution_count": null,
      "metadata": {
        "id": "P7Q9tDKtuSfP"
      },
      "outputs": [],
      "source": [
        "preds = model.predict(images)"
      ]
    },
    {
      "cell_type": "code",
      "execution_count": null,
      "metadata": {
        "id": "fOXa4cJOwxkR"
      },
      "outputs": [],
      "source": [
        "predicted_labels = np.argmax(preds, axis=1)"
      ]
    },
    {
      "cell_type": "code",
      "execution_count": null,
      "metadata": {
        "id": "7kDBG1p9wxmV"
      },
      "outputs": [],
      "source": [
        "plt.figure(figsize=(16, 8))\n",
        "\n",
        "for i in range(9):\n",
        "  ax = plt.subplot(3,3,i+1)\n",
        "  plt.imshow(images[i])\n",
        "  plt.title(f\"True: {classes[true_labels[i]]} \\nPredicted: {classes[predicted_labels[i]]}\")\n",
        "\n",
        "plt.tight_layout(pad=1)\n",
        "plt.show()"
      ]
    },
    {
      "cell_type": "code",
      "execution_count": null,
      "metadata": {
        "id": "edAPDG_Twxoa"
      },
      "outputs": [],
      "source": [
        "top_k = 3\n",
        "top_k_preds= np.argsort(preds, axis=1)[:, -top_k:][:, ::-1]\n",
        "top_k_percent = np.sort(preds, axis=1)[:, -top_k:][:, ::-1]"
      ]
    },
    {
      "cell_type": "code",
      "execution_count": null,
      "metadata": {
        "id": "acu5UOmwwxqi"
      },
      "outputs": [],
      "source": [
        "plt.figure(figsize=(16, 8))\n",
        "\n",
        "for i in range(9):\n",
        "    ax = plt.subplot(3, 3, i + 1)\n",
        "    plt.imshow(images[i])\n",
        "\n",
        "    true_label = classes[true_labels[i]]\n",
        "    pred_labels = classes[predicted_labels[i]]\n",
        "\n",
        "    labels_with_percentages = [f\"{classes[idx]}: {pred*100:.2f}%\" for idx, pred in zip(top_k_preds[i], top_k_percent[i])]\n",
        "\n",
        "    # title = f\"True: {true_label}\\nPredicted: {pred_labels}\\nTop-{top_k} Predictions:\\n\" + \"\\n\".join(labels_with_percentages)\n",
        "    title = f\"True: {true_label}\\nTop-{top_k} Predictions:\\n\" + \"\\n\".join(labels_with_percentages)\n",
        "\n",
        "    plt.title(title, fontsize=10)\n",
        "    ax.axis('off')\n",
        "\n",
        "plt.tight_layout(pad=1)\n",
        "plt.show()"
      ]
    },
    {
      "cell_type": "code",
      "execution_count": null,
      "metadata": {
        "id": "Li2zPiGLwxsl"
      },
      "outputs": [],
      "source": []
    },
    {
      "cell_type": "code",
      "execution_count": null,
      "metadata": {
        "id": "3f6sepuLwxuh"
      },
      "outputs": [],
      "source": []
    }
  ],
  "metadata": {
    "accelerator": "TPU",
    "colab": {
      "provenance": []
    },
    "kernelspec": {
      "display_name": "Python 3",
      "name": "python3"
    },
    "language_info": {
      "name": "python"
    }
  },
  "nbformat": 4,
  "nbformat_minor": 0
}